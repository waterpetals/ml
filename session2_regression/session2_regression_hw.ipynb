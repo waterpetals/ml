{
 "cells": [
  {
   "cell_type": "markdown",
   "id": "98167c00",
   "metadata": {},
   "source": [
    "<h1> Homework Questions for Session 2 Regression </h1>  "
   ]
  },
  {
   "cell_type": "markdown",
   "id": "e19f2ff7",
   "metadata": {},
   "source": [
    " [Link to Session 2 Homework Questions](https://github.com/DataTalksClub/machine-learning-zoomcamp/blob/master/cohorts/2023/02-regression/homework.md)"
   ]
  },
  {
   "cell_type": "markdown",
   "id": "e958e83a",
   "metadata": {},
   "source": [
    "<h2> Dataset </h2>"
   ]
  },
  {
   "cell_type": "markdown",
   "id": "e98542d4",
   "metadata": {},
   "source": [
    "Data is from California Housing Prices from [Kaggle](https://www.kaggle.com/datasets/camnugent/california-housing-prices)"
   ]
  },
  {
   "cell_type": "code",
   "execution_count": 1,
   "id": "19b6268d",
   "metadata": {},
   "outputs": [
    {
     "data": {
      "text/plain": [
       "'housing.csv'"
      ]
     },
     "execution_count": 1,
     "metadata": {},
     "output_type": "execute_result"
    }
   ],
   "source": [
    "import wget\n",
    "url = 'https://raw.githubusercontent.com/alexeygrigorev/datasets/master/housing.csv'\n",
    "filename = wget.download(url)\n",
    "filename"
   ]
  },
  {
   "cell_type": "markdown",
   "id": "87f5536d",
   "metadata": {},
   "source": [
    "<h2> Exploratory Data Analysis </h2>"
   ]
  },
  {
   "cell_type": "markdown",
   "id": "8edeea73",
   "metadata": {},
   "source": [
    "<u> Goal: </u>    \n",
    "\n",
    "Create regression model for prediction of housing prices `'median_house_value'`"
   ]
  },
  {
   "cell_type": "code",
   "execution_count": 2,
   "id": "00421171",
   "metadata": {},
   "outputs": [
    {
     "data": {
      "text/html": [
       "<div>\n",
       "<style scoped>\n",
       "    .dataframe tbody tr th:only-of-type {\n",
       "        vertical-align: middle;\n",
       "    }\n",
       "\n",
       "    .dataframe tbody tr th {\n",
       "        vertical-align: top;\n",
       "    }\n",
       "\n",
       "    .dataframe thead th {\n",
       "        text-align: right;\n",
       "    }\n",
       "</style>\n",
       "<table border=\"1\" class=\"dataframe\">\n",
       "  <thead>\n",
       "    <tr style=\"text-align: right;\">\n",
       "      <th></th>\n",
       "      <th>longitude</th>\n",
       "      <th>latitude</th>\n",
       "      <th>housing_median_age</th>\n",
       "      <th>total_rooms</th>\n",
       "      <th>total_bedrooms</th>\n",
       "      <th>population</th>\n",
       "      <th>households</th>\n",
       "      <th>median_income</th>\n",
       "      <th>median_house_value</th>\n",
       "      <th>ocean_proximity</th>\n",
       "    </tr>\n",
       "  </thead>\n",
       "  <tbody>\n",
       "    <tr>\n",
       "      <th>0</th>\n",
       "      <td>-122.23</td>\n",
       "      <td>37.88</td>\n",
       "      <td>41.0</td>\n",
       "      <td>880.0</td>\n",
       "      <td>129.0</td>\n",
       "      <td>322.0</td>\n",
       "      <td>126.0</td>\n",
       "      <td>8.3252</td>\n",
       "      <td>452600.0</td>\n",
       "      <td>NEAR BAY</td>\n",
       "    </tr>\n",
       "    <tr>\n",
       "      <th>1</th>\n",
       "      <td>-122.22</td>\n",
       "      <td>37.86</td>\n",
       "      <td>21.0</td>\n",
       "      <td>7099.0</td>\n",
       "      <td>1106.0</td>\n",
       "      <td>2401.0</td>\n",
       "      <td>1138.0</td>\n",
       "      <td>8.3014</td>\n",
       "      <td>358500.0</td>\n",
       "      <td>NEAR BAY</td>\n",
       "    </tr>\n",
       "    <tr>\n",
       "      <th>2</th>\n",
       "      <td>-122.24</td>\n",
       "      <td>37.85</td>\n",
       "      <td>52.0</td>\n",
       "      <td>1467.0</td>\n",
       "      <td>190.0</td>\n",
       "      <td>496.0</td>\n",
       "      <td>177.0</td>\n",
       "      <td>7.2574</td>\n",
       "      <td>352100.0</td>\n",
       "      <td>NEAR BAY</td>\n",
       "    </tr>\n",
       "    <tr>\n",
       "      <th>3</th>\n",
       "      <td>-122.25</td>\n",
       "      <td>37.85</td>\n",
       "      <td>52.0</td>\n",
       "      <td>1274.0</td>\n",
       "      <td>235.0</td>\n",
       "      <td>558.0</td>\n",
       "      <td>219.0</td>\n",
       "      <td>5.6431</td>\n",
       "      <td>341300.0</td>\n",
       "      <td>NEAR BAY</td>\n",
       "    </tr>\n",
       "    <tr>\n",
       "      <th>4</th>\n",
       "      <td>-122.25</td>\n",
       "      <td>37.85</td>\n",
       "      <td>52.0</td>\n",
       "      <td>1627.0</td>\n",
       "      <td>280.0</td>\n",
       "      <td>565.0</td>\n",
       "      <td>259.0</td>\n",
       "      <td>3.8462</td>\n",
       "      <td>342200.0</td>\n",
       "      <td>NEAR BAY</td>\n",
       "    </tr>\n",
       "  </tbody>\n",
       "</table>\n",
       "</div>"
      ],
      "text/plain": [
       "   longitude  latitude  housing_median_age  total_rooms  total_bedrooms  \\\n",
       "0    -122.23     37.88                41.0        880.0           129.0   \n",
       "1    -122.22     37.86                21.0       7099.0          1106.0   \n",
       "2    -122.24     37.85                52.0       1467.0           190.0   \n",
       "3    -122.25     37.85                52.0       1274.0           235.0   \n",
       "4    -122.25     37.85                52.0       1627.0           280.0   \n",
       "\n",
       "   population  households  median_income  median_house_value ocean_proximity  \n",
       "0       322.0       126.0         8.3252            452600.0        NEAR BAY  \n",
       "1      2401.0      1138.0         8.3014            358500.0        NEAR BAY  \n",
       "2       496.0       177.0         7.2574            352100.0        NEAR BAY  \n",
       "3       558.0       219.0         5.6431            341300.0        NEAR BAY  \n",
       "4       565.0       259.0         3.8462            342200.0        NEAR BAY  "
      ]
     },
     "execution_count": 2,
     "metadata": {},
     "output_type": "execute_result"
    }
   ],
   "source": [
    "#Load dataset\n",
    "import pandas as pd\n",
    "import numpy as np\n",
    "\n",
    "df1= pd.read_csv('housing.csv')\n",
    "df1.head()"
   ]
  },
  {
   "cell_type": "code",
   "execution_count": 3,
   "id": "17abcb7c",
   "metadata": {},
   "outputs": [
    {
     "name": "stdout",
     "output_type": "stream",
     "text": [
      "longitude\n",
      "[-122.23 -122.22 -122.24 -122.25 -122.26]\n",
      "latitude\n",
      "[37.88 37.86 37.85 37.84 37.83]\n",
      "housing_median_age\n",
      "[41. 21. 52. 42. 50.]\n",
      "total_rooms\n",
      "[ 880. 7099. 1467. 1274. 1627.]\n",
      "total_bedrooms\n",
      "[ 129. 1106.  190.  235.  280.]\n",
      "population\n",
      "[ 322. 2401.  496.  558.  565.]\n",
      "households\n",
      "[ 126. 1138.  177.  219.  259.]\n",
      "median_income\n",
      "[8.3252 8.3014 7.2574 5.6431 3.8462]\n",
      "median_house_value\n",
      "[452600. 358500. 352100. 341300. 342200.]\n",
      "ocean_proximity\n",
      "['NEAR BAY' '<1H OCEAN' 'INLAND' 'NEAR OCEAN' 'ISLAND']\n"
     ]
    }
   ],
   "source": [
    "for col in df1.columns:\n",
    "    print(col)\n",
    "    print(df1[col].unique()[:5])"
   ]
  },
  {
   "cell_type": "code",
   "execution_count": 4,
   "id": "43617b12",
   "metadata": {},
   "outputs": [
    {
     "data": {
      "text/plain": [
       "<Axes: xlabel='median_house_value', ylabel='Count'>"
      ]
     },
     "execution_count": 4,
     "metadata": {},
     "output_type": "execute_result"
    },
    {
     "data": {
      "image/png": "[encoded data removed]",
      "text/plain": [
       "<Figure size 640x480 with 1 Axes>"
      ]
     },
     "metadata": {},
     "output_type": "display_data"
    }
   ],
   "source": [
    "#Distribution of median_house_value\n",
    "import matplotlib as plt\n",
    "import seaborn as sns\n",
    "%matplotlib inline\n",
    "\n",
    "sns.histplot(df1.median_house_value)"
   ]
  },
  {
   "cell_type": "markdown",
   "id": "f08fd966",
   "metadata": {},
   "source": [
    "<u> Prepare the dataset </u>"
   ]
  },
  {
   "cell_type": "code",
   "execution_count": 5,
   "id": "7ba244e1",
   "metadata": {},
   "outputs": [],
   "source": [
    "#Keep data for ocean_proximity is either '<1H OCEAN' or 'INLAND' & reset index\n",
    "df1_ocean = df1[(df1['ocean_proximity'] =='<1H OCEAN') | (df1['ocean_proximity'] =='INLAND')]\n",
    "df_ocean = df1_ocean.reset_index()"
   ]
  },
  {
   "cell_type": "code",
   "execution_count": 6,
   "id": "b27711db",
   "metadata": {},
   "outputs": [
    {
     "data": {
      "text/html": [
       "<div>\n",
       "<style scoped>\n",
       "    .dataframe tbody tr th:only-of-type {\n",
       "        vertical-align: middle;\n",
       "    }\n",
       "\n",
       "    .dataframe tbody tr th {\n",
       "        vertical-align: top;\n",
       "    }\n",
       "\n",
       "    .dataframe thead th {\n",
       "        text-align: right;\n",
       "    }\n",
       "</style>\n",
       "<table border=\"1\" class=\"dataframe\">\n",
       "  <thead>\n",
       "    <tr style=\"text-align: right;\">\n",
       "      <th></th>\n",
       "      <th>index</th>\n",
       "      <th>longitude</th>\n",
       "      <th>latitude</th>\n",
       "      <th>housing_median_age</th>\n",
       "      <th>total_rooms</th>\n",
       "      <th>total_bedrooms</th>\n",
       "      <th>population</th>\n",
       "      <th>households</th>\n",
       "      <th>median_income</th>\n",
       "      <th>median_house_value</th>\n",
       "      <th>ocean_proximity</th>\n",
       "    </tr>\n",
       "  </thead>\n",
       "  <tbody>\n",
       "    <tr>\n",
       "      <th>0</th>\n",
       "      <td>701</td>\n",
       "      <td>-121.97</td>\n",
       "      <td>37.64</td>\n",
       "      <td>32.0</td>\n",
       "      <td>1283.0</td>\n",
       "      <td>194.0</td>\n",
       "      <td>485.0</td>\n",
       "      <td>171.0</td>\n",
       "      <td>6.0574</td>\n",
       "      <td>431000.0</td>\n",
       "      <td>&lt;1H OCEAN</td>\n",
       "    </tr>\n",
       "    <tr>\n",
       "      <th>1</th>\n",
       "      <td>830</td>\n",
       "      <td>-121.99</td>\n",
       "      <td>37.61</td>\n",
       "      <td>9.0</td>\n",
       "      <td>3666.0</td>\n",
       "      <td>711.0</td>\n",
       "      <td>2341.0</td>\n",
       "      <td>703.0</td>\n",
       "      <td>4.6458</td>\n",
       "      <td>217000.0</td>\n",
       "      <td>&lt;1H OCEAN</td>\n",
       "    </tr>\n",
       "    <tr>\n",
       "      <th>2</th>\n",
       "      <td>859</td>\n",
       "      <td>-121.97</td>\n",
       "      <td>37.57</td>\n",
       "      <td>21.0</td>\n",
       "      <td>4342.0</td>\n",
       "      <td>783.0</td>\n",
       "      <td>2172.0</td>\n",
       "      <td>789.0</td>\n",
       "      <td>4.6146</td>\n",
       "      <td>247600.0</td>\n",
       "      <td>&lt;1H OCEAN</td>\n",
       "    </tr>\n",
       "    <tr>\n",
       "      <th>3</th>\n",
       "      <td>860</td>\n",
       "      <td>-121.96</td>\n",
       "      <td>37.58</td>\n",
       "      <td>15.0</td>\n",
       "      <td>3575.0</td>\n",
       "      <td>597.0</td>\n",
       "      <td>1777.0</td>\n",
       "      <td>559.0</td>\n",
       "      <td>5.7192</td>\n",
       "      <td>283500.0</td>\n",
       "      <td>&lt;1H OCEAN</td>\n",
       "    </tr>\n",
       "    <tr>\n",
       "      <th>4</th>\n",
       "      <td>861</td>\n",
       "      <td>-121.98</td>\n",
       "      <td>37.58</td>\n",
       "      <td>20.0</td>\n",
       "      <td>4126.0</td>\n",
       "      <td>1031.0</td>\n",
       "      <td>2079.0</td>\n",
       "      <td>975.0</td>\n",
       "      <td>3.6832</td>\n",
       "      <td>216900.0</td>\n",
       "      <td>&lt;1H OCEAN</td>\n",
       "    </tr>\n",
       "  </tbody>\n",
       "</table>\n",
       "</div>"
      ],
      "text/plain": [
       "   index  longitude  latitude  housing_median_age  total_rooms  \\\n",
       "0    701    -121.97     37.64                32.0       1283.0   \n",
       "1    830    -121.99     37.61                 9.0       3666.0   \n",
       "2    859    -121.97     37.57                21.0       4342.0   \n",
       "3    860    -121.96     37.58                15.0       3575.0   \n",
       "4    861    -121.98     37.58                20.0       4126.0   \n",
       "\n",
       "   total_bedrooms  population  households  median_income  median_house_value  \\\n",
       "0           194.0       485.0       171.0         6.0574            431000.0   \n",
       "1           711.0      2341.0       703.0         4.6458            217000.0   \n",
       "2           783.0      2172.0       789.0         4.6146            247600.0   \n",
       "3           597.0      1777.0       559.0         5.7192            283500.0   \n",
       "4          1031.0      2079.0       975.0         3.6832            216900.0   \n",
       "\n",
       "  ocean_proximity  \n",
       "0       <1H OCEAN  \n",
       "1       <1H OCEAN  \n",
       "2       <1H OCEAN  \n",
       "3       <1H OCEAN  \n",
       "4       <1H OCEAN  "
      ]
     },
     "execution_count": 6,
     "metadata": {},
     "output_type": "execute_result"
    }
   ],
   "source": [
    "#Select first 5 rows\n",
    "df_ocean.head()"
   ]
  },
  {
   "cell_type": "code",
   "execution_count": 7,
   "id": "3242e8f0",
   "metadata": {},
   "outputs": [
    {
     "name": "stdout",
     "output_type": "stream",
     "text": [
      "index\n",
      "[701 830 859 860 861]\n",
      "longitude\n",
      "[-121.97 -121.99 -121.96 -121.98 -122.  ]\n",
      "latitude\n",
      "[37.64 37.61 37.57 37.58 37.49]\n",
      "housing_median_age\n",
      "[32.  9. 21. 15. 20.]\n",
      "total_rooms\n",
      "[1283. 3666. 4342. 3575. 4126.]\n",
      "total_bedrooms\n",
      "[ 194.  711.  783.  597. 1031.]\n",
      "population\n",
      "[ 485. 2341. 2172. 1777. 2079.]\n",
      "households\n",
      "[171. 703. 789. 559. 975.]\n",
      "median_income\n",
      "[6.0574 4.6458 4.6146 5.7192 3.6832]\n",
      "median_house_value\n",
      "[431000. 217000. 247600. 283500. 216900.]\n",
      "ocean_proximity\n",
      "['<1H OCEAN' 'INLAND']\n"
     ]
    }
   ],
   "source": [
    "for col in df_ocean.columns:\n",
    "    print(col)\n",
    "    print(df_ocean[col].unique()[:5])"
   ]
  },
  {
   "cell_type": "code",
   "execution_count": 8,
   "id": "b91808ec",
   "metadata": {},
   "outputs": [
    {
     "data": {
      "text/html": [
       "<div>\n",
       "<style scoped>\n",
       "    .dataframe tbody tr th:only-of-type {\n",
       "        vertical-align: middle;\n",
       "    }\n",
       "\n",
       "    .dataframe tbody tr th {\n",
       "        vertical-align: top;\n",
       "    }\n",
       "\n",
       "    .dataframe thead th {\n",
       "        text-align: right;\n",
       "    }\n",
       "</style>\n",
       "<table border=\"1\" class=\"dataframe\">\n",
       "  <thead>\n",
       "    <tr style=\"text-align: right;\">\n",
       "      <th></th>\n",
       "      <th>latitude</th>\n",
       "      <th>longitude</th>\n",
       "      <th>housing_median_age</th>\n",
       "      <th>total_rooms</th>\n",
       "      <th>total_bedrooms</th>\n",
       "      <th>population</th>\n",
       "      <th>households</th>\n",
       "      <th>median_income</th>\n",
       "      <th>median_house_value</th>\n",
       "    </tr>\n",
       "  </thead>\n",
       "  <tbody>\n",
       "    <tr>\n",
       "      <th>0</th>\n",
       "      <td>37.64</td>\n",
       "      <td>-121.97</td>\n",
       "      <td>32.0</td>\n",
       "      <td>1283.0</td>\n",
       "      <td>194.0</td>\n",
       "      <td>485.0</td>\n",
       "      <td>171.0</td>\n",
       "      <td>6.0574</td>\n",
       "      <td>431000.0</td>\n",
       "    </tr>\n",
       "    <tr>\n",
       "      <th>1</th>\n",
       "      <td>37.61</td>\n",
       "      <td>-121.99</td>\n",
       "      <td>9.0</td>\n",
       "      <td>3666.0</td>\n",
       "      <td>711.0</td>\n",
       "      <td>2341.0</td>\n",
       "      <td>703.0</td>\n",
       "      <td>4.6458</td>\n",
       "      <td>217000.0</td>\n",
       "    </tr>\n",
       "    <tr>\n",
       "      <th>2</th>\n",
       "      <td>37.57</td>\n",
       "      <td>-121.97</td>\n",
       "      <td>21.0</td>\n",
       "      <td>4342.0</td>\n",
       "      <td>783.0</td>\n",
       "      <td>2172.0</td>\n",
       "      <td>789.0</td>\n",
       "      <td>4.6146</td>\n",
       "      <td>247600.0</td>\n",
       "    </tr>\n",
       "    <tr>\n",
       "      <th>3</th>\n",
       "      <td>37.58</td>\n",
       "      <td>-121.96</td>\n",
       "      <td>15.0</td>\n",
       "      <td>3575.0</td>\n",
       "      <td>597.0</td>\n",
       "      <td>1777.0</td>\n",
       "      <td>559.0</td>\n",
       "      <td>5.7192</td>\n",
       "      <td>283500.0</td>\n",
       "    </tr>\n",
       "    <tr>\n",
       "      <th>4</th>\n",
       "      <td>37.58</td>\n",
       "      <td>-121.98</td>\n",
       "      <td>20.0</td>\n",
       "      <td>4126.0</td>\n",
       "      <td>1031.0</td>\n",
       "      <td>2079.0</td>\n",
       "      <td>975.0</td>\n",
       "      <td>3.6832</td>\n",
       "      <td>216900.0</td>\n",
       "    </tr>\n",
       "  </tbody>\n",
       "</table>\n",
       "</div>"
      ],
      "text/plain": [
       "   latitude  longitude  housing_median_age  total_rooms  total_bedrooms  \\\n",
       "0     37.64    -121.97                32.0       1283.0           194.0   \n",
       "1     37.61    -121.99                 9.0       3666.0           711.0   \n",
       "2     37.57    -121.97                21.0       4342.0           783.0   \n",
       "3     37.58    -121.96                15.0       3575.0           597.0   \n",
       "4     37.58    -121.98                20.0       4126.0          1031.0   \n",
       "\n",
       "   population  households  median_income  median_house_value  \n",
       "0       485.0       171.0         6.0574            431000.0  \n",
       "1      2341.0       703.0         4.6458            217000.0  \n",
       "2      2172.0       789.0         4.6146            247600.0  \n",
       "3      1777.0       559.0         5.7192            283500.0  \n",
       "4      2079.0       975.0         3.6832            216900.0  "
      ]
     },
     "execution_count": 8,
     "metadata": {},
     "output_type": "execute_result"
    }
   ],
   "source": [
    "#Prepare dataset\n",
    "df = df_ocean[['latitude', 'longitude', 'housing_median_age', 'total_rooms',\n",
    "                'total_bedrooms', 'population', 'households', 'median_income', \n",
    "               'median_house_value']]\n",
    "df.head()"
   ]
  },
  {
   "cell_type": "markdown",
   "id": "e015524e",
   "metadata": {},
   "source": [
    "<h2> Question 1 </h2>"
   ]
  },
  {
   "cell_type": "markdown",
   "id": "8f47a9cf",
   "metadata": {},
   "source": [
    "There's one feature with missing values. What is it?\n",
    "\n",
    "- total_rooms\n",
    "- total_bedrooms\n",
    "- population\n",
    "- households"
   ]
  },
  {
   "cell_type": "code",
   "execution_count": 9,
   "id": "e5d3ee19",
   "metadata": {},
   "outputs": [
    {
     "name": "stdout",
     "output_type": "stream",
     "text": [
      "<class 'pandas.core.frame.DataFrame'>\n",
      "RangeIndex: 15687 entries, 0 to 15686\n",
      "Data columns (total 9 columns):\n",
      " #   Column              Non-Null Count  Dtype  \n",
      "---  ------              --------------  -----  \n",
      " 0   latitude            15687 non-null  float64\n",
      " 1   longitude           15687 non-null  float64\n",
      " 2   housing_median_age  15687 non-null  float64\n",
      " 3   total_rooms         15687 non-null  float64\n",
      " 4   total_bedrooms      15530 non-null  float64\n",
      " 5   population          15687 non-null  float64\n",
      " 6   households          15687 non-null  float64\n",
      " 7   median_income       15687 non-null  float64\n",
      " 8   median_house_value  15687 non-null  float64\n",
      "dtypes: float64(9)\n",
      "memory usage: 1.1 MB\n"
     ]
    }
   ],
   "source": [
    "#Summary of DataFrame\n",
    "df.info()"
   ]
  },
  {
   "cell_type": "code",
   "execution_count": 10,
   "id": "77746f98",
   "metadata": {},
   "outputs": [
    {
     "data": {
      "text/plain": [
       "latitude                0\n",
       "longitude               0\n",
       "housing_median_age      0\n",
       "total_rooms             0\n",
       "total_bedrooms        157\n",
       "population              0\n",
       "households              0\n",
       "median_income           0\n",
       "median_house_value      0\n",
       "dtype: int64"
      ]
     },
     "execution_count": 10,
     "metadata": {},
     "output_type": "execute_result"
    }
   ],
   "source": [
    "#Find missing values\n",
    "df.isnull().sum()"
   ]
  },
  {
   "cell_type": "markdown",
   "id": "ddb13c3c",
   "metadata": {},
   "source": [
    "`Answer: total_bedrooms`"
   ]
  },
  {
   "cell_type": "markdown",
   "id": "57cf03c6",
   "metadata": {},
   "source": [
    "<h2> Question 2 </h2>"
   ]
  },
  {
   "cell_type": "code",
   "execution_count": 11,
   "id": "98855714",
   "metadata": {},
   "outputs": [
    {
     "data": {
      "text/html": [
       "<div>\n",
       "<style scoped>\n",
       "    .dataframe tbody tr th:only-of-type {\n",
       "        vertical-align: middle;\n",
       "    }\n",
       "\n",
       "    .dataframe tbody tr th {\n",
       "        vertical-align: top;\n",
       "    }\n",
       "\n",
       "    .dataframe thead th {\n",
       "        text-align: right;\n",
       "    }\n",
       "</style>\n",
       "<table border=\"1\" class=\"dataframe\">\n",
       "  <thead>\n",
       "    <tr style=\"text-align: right;\">\n",
       "      <th></th>\n",
       "      <th>latitude</th>\n",
       "      <th>longitude</th>\n",
       "      <th>housing_median_age</th>\n",
       "      <th>total_rooms</th>\n",
       "      <th>total_bedrooms</th>\n",
       "      <th>population</th>\n",
       "      <th>households</th>\n",
       "      <th>median_income</th>\n",
       "      <th>median_house_value</th>\n",
       "    </tr>\n",
       "  </thead>\n",
       "  <tbody>\n",
       "    <tr>\n",
       "      <th>count</th>\n",
       "      <td>15687.000000</td>\n",
       "      <td>15687.000000</td>\n",
       "      <td>15687.000000</td>\n",
       "      <td>15687.000000</td>\n",
       "      <td>15530.000000</td>\n",
       "      <td>15687.000000</td>\n",
       "      <td>15687.000000</td>\n",
       "      <td>15687.000000</td>\n",
       "      <td>15687.000000</td>\n",
       "    </tr>\n",
       "    <tr>\n",
       "      <th>mean</th>\n",
       "      <td>35.467307</td>\n",
       "      <td>-119.217442</td>\n",
       "      <td>27.188118</td>\n",
       "      <td>2665.677312</td>\n",
       "      <td>541.244688</td>\n",
       "      <td>1466.317205</td>\n",
       "      <td>500.916491</td>\n",
       "      <td>3.804019</td>\n",
       "      <td>191943.020017</td>\n",
       "    </tr>\n",
       "    <tr>\n",
       "      <th>std</th>\n",
       "      <td>2.066387</td>\n",
       "      <td>1.780380</td>\n",
       "      <td>12.057128</td>\n",
       "      <td>2257.672743</td>\n",
       "      <td>435.650018</td>\n",
       "      <td>1180.389908</td>\n",
       "      <td>392.759399</td>\n",
       "      <td>1.857158</td>\n",
       "      <td>108801.077620</td>\n",
       "    </tr>\n",
       "    <tr>\n",
       "      <th>min</th>\n",
       "      <td>32.610000</td>\n",
       "      <td>-124.140000</td>\n",
       "      <td>1.000000</td>\n",
       "      <td>2.000000</td>\n",
       "      <td>2.000000</td>\n",
       "      <td>3.000000</td>\n",
       "      <td>2.000000</td>\n",
       "      <td>0.499900</td>\n",
       "      <td>14999.000000</td>\n",
       "    </tr>\n",
       "    <tr>\n",
       "      <th>25%</th>\n",
       "      <td>33.940000</td>\n",
       "      <td>-121.070000</td>\n",
       "      <td>17.000000</td>\n",
       "      <td>1441.000000</td>\n",
       "      <td>295.000000</td>\n",
       "      <td>802.000000</td>\n",
       "      <td>278.000000</td>\n",
       "      <td>2.520800</td>\n",
       "      <td>111300.000000</td>\n",
       "    </tr>\n",
       "    <tr>\n",
       "      <th>50%</th>\n",
       "      <td>34.160000</td>\n",
       "      <td>-118.370000</td>\n",
       "      <td>27.000000</td>\n",
       "      <td>2118.000000</td>\n",
       "      <td>432.000000</td>\n",
       "      <td>1195.000000</td>\n",
       "      <td>406.000000</td>\n",
       "      <td>3.468800</td>\n",
       "      <td>166900.000000</td>\n",
       "    </tr>\n",
       "    <tr>\n",
       "      <th>75%</th>\n",
       "      <td>37.340000</td>\n",
       "      <td>-117.990000</td>\n",
       "      <td>36.000000</td>\n",
       "      <td>3172.000000</td>\n",
       "      <td>645.000000</td>\n",
       "      <td>1777.000000</td>\n",
       "      <td>602.000000</td>\n",
       "      <td>4.686200</td>\n",
       "      <td>241100.000000</td>\n",
       "    </tr>\n",
       "    <tr>\n",
       "      <th>max</th>\n",
       "      <td>41.950000</td>\n",
       "      <td>-114.310000</td>\n",
       "      <td>52.000000</td>\n",
       "      <td>39320.000000</td>\n",
       "      <td>6445.000000</td>\n",
       "      <td>35682.000000</td>\n",
       "      <td>6082.000000</td>\n",
       "      <td>15.000100</td>\n",
       "      <td>500001.000000</td>\n",
       "    </tr>\n",
       "  </tbody>\n",
       "</table>\n",
       "</div>"
      ],
      "text/plain": [
       "           latitude     longitude  housing_median_age   total_rooms  \\\n",
       "count  15687.000000  15687.000000        15687.000000  15687.000000   \n",
       "mean      35.467307   -119.217442           27.188118   2665.677312   \n",
       "std        2.066387      1.780380           12.057128   2257.672743   \n",
       "min       32.610000   -124.140000            1.000000      2.000000   \n",
       "25%       33.940000   -121.070000           17.000000   1441.000000   \n",
       "50%       34.160000   -118.370000           27.000000   2118.000000   \n",
       "75%       37.340000   -117.990000           36.000000   3172.000000   \n",
       "max       41.950000   -114.310000           52.000000  39320.000000   \n",
       "\n",
       "       total_bedrooms    population    households  median_income  \\\n",
       "count    15530.000000  15687.000000  15687.000000   15687.000000   \n",
       "mean       541.244688   1466.317205    500.916491       3.804019   \n",
       "std        435.650018   1180.389908    392.759399       1.857158   \n",
       "min          2.000000      3.000000      2.000000       0.499900   \n",
       "25%        295.000000    802.000000    278.000000       2.520800   \n",
       "50%        432.000000   1195.000000    406.000000       3.468800   \n",
       "75%        645.000000   1777.000000    602.000000       4.686200   \n",
       "max       6445.000000  35682.000000   6082.000000      15.000100   \n",
       "\n",
       "       median_house_value  \n",
       "count        15687.000000  \n",
       "mean        191943.020017  \n",
       "std         108801.077620  \n",
       "min          14999.000000  \n",
       "25%         111300.000000  \n",
       "50%         166900.000000  \n",
       "75%         241100.000000  \n",
       "max         500001.000000  "
      ]
     },
     "execution_count": 11,
     "metadata": {},
     "output_type": "execute_result"
    }
   ],
   "source": [
    "#Dataset Information\n",
    "df.describe()"
   ]
  },
  {
   "cell_type": "markdown",
   "id": "199c5491",
   "metadata": {},
   "source": [
    "`Answer: 1195`"
   ]
  },
  {
   "cell_type": "markdown",
   "id": "c70f239b",
   "metadata": {},
   "source": [
    "<u> Prepare and split the dataset </u>  "
   ]
  },
  {
   "cell_type": "code",
   "execution_count": 12,
   "id": "5181ef22",
   "metadata": {},
   "outputs": [],
   "source": [
    "#Set up Validation Framework\n",
    "#train/val/test: 60%/20%/20%\n",
    "\n",
    "n = len(df)\n",
    "n_test = int(n * 0.2)\n",
    "n_val = int(n * 0.2)\n",
    "n_train = n - n_val - n_test"
   ]
  },
  {
   "cell_type": "code",
   "execution_count": 13,
   "id": "1ea3ecb9",
   "metadata": {},
   "outputs": [
    {
     "data": {
      "text/plain": [
       "(15687, 15687)"
      ]
     },
     "execution_count": 13,
     "metadata": {},
     "output_type": "execute_result"
    }
   ],
   "source": [
    "#Check Dataset \n",
    "n, n_train + n_val + n_test"
   ]
  },
  {
   "cell_type": "code",
   "execution_count": 14,
   "id": "5b5fc07d",
   "metadata": {},
   "outputs": [
    {
     "data": {
      "text/plain": [
       "(3137, 3137, 9413)"
      ]
     },
     "execution_count": 14,
     "metadata": {},
     "output_type": "execute_result"
    }
   ],
   "source": [
    "n_val, n_test, n_train"
   ]
  },
  {
   "cell_type": "code",
   "execution_count": 15,
   "id": "2933e074",
   "metadata": {},
   "outputs": [],
   "source": [
    "#Shuffle Dataset\n",
    "import random\n",
    "\n",
    "np.random.seed(42) #shuffle with seed so results are reproducible\n",
    "idx = np.arange(n)\n",
    "np.random.shuffle(idx)"
   ]
  },
  {
   "cell_type": "code",
   "execution_count": 16,
   "id": "c37dd943",
   "metadata": {},
   "outputs": [],
   "source": [
    "#Split dataset per shuffle\n",
    "#first record to end record\n",
    "df_train = df.iloc[idx[:n_train]]\n",
    "df_val = df.iloc[idx[n_train:n_train + n_val]] \n",
    "df_test = df.iloc[idx[n_train + n_val:]]"
   ]
  },
  {
   "cell_type": "code",
   "execution_count": 64,
   "id": "e1ec51ad",
   "metadata": {},
   "outputs": [
    {
     "data": {
      "text/plain": [
       "(9413, 3137, 3137)"
      ]
     },
     "execution_count": 64,
     "metadata": {},
     "output_type": "execute_result"
    }
   ],
   "source": [
    "#Check datasets\n",
    "len(df_train), len(df_val), len(df_test)"
   ]
  },
  {
   "cell_type": "code",
   "execution_count": 65,
   "id": "db048478",
   "metadata": {},
   "outputs": [],
   "source": [
    "#Reset Train,Validation,Test Data Index\n",
    "df_train = df_train.reset_index(drop=True)\n",
    "df_val = df_val.reset_index(drop=True)\n",
    "df_test = df_test.reset_index(drop=True)"
   ]
  },
  {
   "cell_type": "code",
   "execution_count": 66,
   "id": "8cd716a8",
   "metadata": {},
   "outputs": [
    {
     "data": {
      "text/html": [
       "<div>\n",
       "<style scoped>\n",
       "    .dataframe tbody tr th:only-of-type {\n",
       "        vertical-align: middle;\n",
       "    }\n",
       "\n",
       "    .dataframe tbody tr th {\n",
       "        vertical-align: top;\n",
       "    }\n",
       "\n",
       "    .dataframe thead th {\n",
       "        text-align: right;\n",
       "    }\n",
       "</style>\n",
       "<table border=\"1\" class=\"dataframe\">\n",
       "  <thead>\n",
       "    <tr style=\"text-align: right;\">\n",
       "      <th></th>\n",
       "      <th>latitude</th>\n",
       "      <th>longitude</th>\n",
       "      <th>housing_median_age</th>\n",
       "      <th>total_rooms</th>\n",
       "      <th>total_bedrooms</th>\n",
       "      <th>population</th>\n",
       "      <th>households</th>\n",
       "      <th>median_income</th>\n",
       "      <th>median_house_value</th>\n",
       "    </tr>\n",
       "  </thead>\n",
       "  <tbody>\n",
       "    <tr>\n",
       "      <th>0</th>\n",
       "      <td>36.23</td>\n",
       "      <td>-119.14</td>\n",
       "      <td>22.0</td>\n",
       "      <td>2935.0</td>\n",
       "      <td>523.0</td>\n",
       "      <td>1927.0</td>\n",
       "      <td>530.0</td>\n",
       "      <td>2.5875</td>\n",
       "      <td>70400.0</td>\n",
       "    </tr>\n",
       "    <tr>\n",
       "      <th>1</th>\n",
       "      <td>34.12</td>\n",
       "      <td>-117.79</td>\n",
       "      <td>16.0</td>\n",
       "      <td>2426.0</td>\n",
       "      <td>426.0</td>\n",
       "      <td>1319.0</td>\n",
       "      <td>446.0</td>\n",
       "      <td>4.8125</td>\n",
       "      <td>224500.0</td>\n",
       "    </tr>\n",
       "    <tr>\n",
       "      <th>2</th>\n",
       "      <td>33.68</td>\n",
       "      <td>-117.97</td>\n",
       "      <td>26.0</td>\n",
       "      <td>3653.0</td>\n",
       "      <td>568.0</td>\n",
       "      <td>1930.0</td>\n",
       "      <td>585.0</td>\n",
       "      <td>5.7301</td>\n",
       "      <td>260900.0</td>\n",
       "    </tr>\n",
       "    <tr>\n",
       "      <th>3</th>\n",
       "      <td>34.10</td>\n",
       "      <td>-118.03</td>\n",
       "      <td>32.0</td>\n",
       "      <td>2668.0</td>\n",
       "      <td>609.0</td>\n",
       "      <td>1512.0</td>\n",
       "      <td>541.0</td>\n",
       "      <td>2.9422</td>\n",
       "      <td>233100.0</td>\n",
       "    </tr>\n",
       "    <tr>\n",
       "      <th>4</th>\n",
       "      <td>37.34</td>\n",
       "      <td>-121.87</td>\n",
       "      <td>39.0</td>\n",
       "      <td>2479.0</td>\n",
       "      <td>541.0</td>\n",
       "      <td>1990.0</td>\n",
       "      <td>506.0</td>\n",
       "      <td>2.4306</td>\n",
       "      <td>289100.0</td>\n",
       "    </tr>\n",
       "  </tbody>\n",
       "</table>\n",
       "</div>"
      ],
      "text/plain": [
       "   latitude  longitude  housing_median_age  total_rooms  total_bedrooms  \\\n",
       "0     36.23    -119.14                22.0       2935.0           523.0   \n",
       "1     34.12    -117.79                16.0       2426.0           426.0   \n",
       "2     33.68    -117.97                26.0       3653.0           568.0   \n",
       "3     34.10    -118.03                32.0       2668.0           609.0   \n",
       "4     37.34    -121.87                39.0       2479.0           541.0   \n",
       "\n",
       "   population  households  median_income  median_house_value  \n",
       "0      1927.0       530.0         2.5875             70400.0  \n",
       "1      1319.0       446.0         4.8125            224500.0  \n",
       "2      1930.0       585.0         5.7301            260900.0  \n",
       "3      1512.0       541.0         2.9422            233100.0  \n",
       "4      1990.0       506.0         2.4306            289100.0  "
      ]
     },
     "execution_count": 66,
     "metadata": {},
     "output_type": "execute_result"
    }
   ],
   "source": [
    "df_train.head()"
   ]
  },
  {
   "cell_type": "code",
   "execution_count": 67,
   "id": "1b16f83e",
   "metadata": {},
   "outputs": [],
   "source": [
    "#Apply Log Transformation on median_house_value\n",
    "\n",
    "y_train=np.log1p(df_train.median_house_value.values)\n",
    "y_val=np.log1p(df_val.median_house_value.values)\n",
    "y_test=np.log1p(df_test.median_house_value.values)"
   ]
  },
  {
   "cell_type": "code",
   "execution_count": 68,
   "id": "de4b7475",
   "metadata": {},
   "outputs": [],
   "source": [
    "#Delete column of previous unused Log Transformation column\n",
    "\n",
    "del df_train['median_house_value']\n",
    "del df_val['median_house_value']\n",
    "del df_test['median_house_value']"
   ]
  },
  {
   "cell_type": "code",
   "execution_count": 69,
   "id": "5203eb01",
   "metadata": {},
   "outputs": [
    {
     "data": {
      "text/html": [
       "<div>\n",
       "<style scoped>\n",
       "    .dataframe tbody tr th:only-of-type {\n",
       "        vertical-align: middle;\n",
       "    }\n",
       "\n",
       "    .dataframe tbody tr th {\n",
       "        vertical-align: top;\n",
       "    }\n",
       "\n",
       "    .dataframe thead th {\n",
       "        text-align: right;\n",
       "    }\n",
       "</style>\n",
       "<table border=\"1\" class=\"dataframe\">\n",
       "  <thead>\n",
       "    <tr style=\"text-align: right;\">\n",
       "      <th></th>\n",
       "      <th>latitude</th>\n",
       "      <th>longitude</th>\n",
       "      <th>housing_median_age</th>\n",
       "      <th>total_rooms</th>\n",
       "      <th>total_bedrooms</th>\n",
       "      <th>population</th>\n",
       "      <th>households</th>\n",
       "      <th>median_income</th>\n",
       "    </tr>\n",
       "  </thead>\n",
       "  <tbody>\n",
       "    <tr>\n",
       "      <th>0</th>\n",
       "      <td>36.23</td>\n",
       "      <td>-119.14</td>\n",
       "      <td>22.0</td>\n",
       "      <td>2935.0</td>\n",
       "      <td>523.0</td>\n",
       "      <td>1927.0</td>\n",
       "      <td>530.0</td>\n",
       "      <td>2.5875</td>\n",
       "    </tr>\n",
       "    <tr>\n",
       "      <th>1</th>\n",
       "      <td>34.12</td>\n",
       "      <td>-117.79</td>\n",
       "      <td>16.0</td>\n",
       "      <td>2426.0</td>\n",
       "      <td>426.0</td>\n",
       "      <td>1319.0</td>\n",
       "      <td>446.0</td>\n",
       "      <td>4.8125</td>\n",
       "    </tr>\n",
       "    <tr>\n",
       "      <th>2</th>\n",
       "      <td>33.68</td>\n",
       "      <td>-117.97</td>\n",
       "      <td>26.0</td>\n",
       "      <td>3653.0</td>\n",
       "      <td>568.0</td>\n",
       "      <td>1930.0</td>\n",
       "      <td>585.0</td>\n",
       "      <td>5.7301</td>\n",
       "    </tr>\n",
       "    <tr>\n",
       "      <th>3</th>\n",
       "      <td>34.10</td>\n",
       "      <td>-118.03</td>\n",
       "      <td>32.0</td>\n",
       "      <td>2668.0</td>\n",
       "      <td>609.0</td>\n",
       "      <td>1512.0</td>\n",
       "      <td>541.0</td>\n",
       "      <td>2.9422</td>\n",
       "    </tr>\n",
       "    <tr>\n",
       "      <th>4</th>\n",
       "      <td>37.34</td>\n",
       "      <td>-121.87</td>\n",
       "      <td>39.0</td>\n",
       "      <td>2479.0</td>\n",
       "      <td>541.0</td>\n",
       "      <td>1990.0</td>\n",
       "      <td>506.0</td>\n",
       "      <td>2.4306</td>\n",
       "    </tr>\n",
       "  </tbody>\n",
       "</table>\n",
       "</div>"
      ],
      "text/plain": [
       "   latitude  longitude  housing_median_age  total_rooms  total_bedrooms  \\\n",
       "0     36.23    -119.14                22.0       2935.0           523.0   \n",
       "1     34.12    -117.79                16.0       2426.0           426.0   \n",
       "2     33.68    -117.97                26.0       3653.0           568.0   \n",
       "3     34.10    -118.03                32.0       2668.0           609.0   \n",
       "4     37.34    -121.87                39.0       2479.0           541.0   \n",
       "\n",
       "   population  households  median_income  \n",
       "0      1927.0       530.0         2.5875  \n",
       "1      1319.0       446.0         4.8125  \n",
       "2      1930.0       585.0         5.7301  \n",
       "3      1512.0       541.0         2.9422  \n",
       "4      1990.0       506.0         2.4306  "
      ]
     },
     "execution_count": 69,
     "metadata": {},
     "output_type": "execute_result"
    }
   ],
   "source": [
    "df_train.head()"
   ]
  },
  {
   "cell_type": "code",
   "execution_count": 70,
   "id": "34b4c2a8",
   "metadata": {},
   "outputs": [
    {
     "data": {
      "text/plain": [
       "array([11.16196275, 12.32163544, 12.4718963 , ..., 13.12236738,\n",
       "       12.11888489, 12.52924613])"
      ]
     },
     "execution_count": 70,
     "metadata": {},
     "output_type": "execute_result"
    }
   ],
   "source": [
    "y_train"
   ]
  },
  {
   "cell_type": "code",
   "execution_count": 71,
   "id": "533738b5",
   "metadata": {},
   "outputs": [
    {
     "data": {
      "text/plain": [
       "9413"
      ]
     },
     "execution_count": 71,
     "metadata": {},
     "output_type": "execute_result"
    }
   ],
   "source": [
    "#Check Length of y_train dataset\n",
    "len(y_train)"
   ]
  },
  {
   "cell_type": "markdown",
   "id": "7d07d48f",
   "metadata": {},
   "source": [
    "<h2> Question 3 </h2>"
   ]
  },
  {
   "cell_type": "code",
   "execution_count": 72,
   "id": "24308847",
   "metadata": {},
   "outputs": [
    {
     "data": {
      "text/plain": [
       "Index(['latitude', 'longitude', 'housing_median_age', 'total_rooms',\n",
       "       'total_bedrooms', 'population', 'households', 'median_income'],\n",
       "      dtype='object')"
      ]
     },
     "execution_count": 72,
     "metadata": {},
     "output_type": "execute_result"
    }
   ],
   "source": [
    "#List all columns\n",
    "df_train.columns"
   ]
  },
  {
   "cell_type": "code",
   "execution_count": 73,
   "id": "9234f899",
   "metadata": {},
   "outputs": [],
   "source": [
    "df_train1 = df_train.copy()\n",
    "df_train2 = df_train.copy()\n",
    "df_train3 = df_train.copy()"
   ]
  },
  {
   "cell_type": "code",
   "execution_count": 74,
   "id": "fa848a0f",
   "metadata": {},
   "outputs": [],
   "source": [
    "#Training Linear Regression\n",
    "def train_linear_regression(X, y):\n",
    "    ones = np.ones(X.shape[0])\n",
    "    X = np.column_stack([ones, X])\n",
    "\n",
    "    XTX = X.T.dot(X)\n",
    "    XTX_inv = np.linalg.inv(XTX)\n",
    "    w_full = XTX_inv.dot(X.T).dot(y)\n",
    "    \n",
    "    return w_full[0], w_full[1:]"
   ]
  },
  {
   "cell_type": "code",
   "execution_count": 75,
   "id": "f11765cb",
   "metadata": {},
   "outputs": [],
   "source": [
    "#Define RMSE Score\n",
    "def rmse(y, y_pred):\n",
    "    se = (y - y_pred) ** 2\n",
    "    mse = se.mean()\n",
    "    return np.sqrt(mse)"
   ]
  },
  {
   "cell_type": "code",
   "execution_count": 76,
   "id": "47504aa5",
   "metadata": {},
   "outputs": [],
   "source": [
    "base = ['latitude', 'longitude', 'housing_median_age', 'total_rooms',\n",
    "       'total_bedrooms', 'population', 'households', 'median_income']"
   ]
  },
  {
   "cell_type": "code",
   "execution_count": 77,
   "id": "a0a79b32",
   "metadata": {},
   "outputs": [],
   "source": [
    "def prepare_X(df):\n",
    "    df_num = df[base]\n",
    "    df_num = df_num.fillna(0)\n",
    "    X = df_num.values\n",
    "    return X"
   ]
  },
  {
   "cell_type": "markdown",
   "id": "2f782dcf",
   "metadata": {},
   "source": [
    "<u> Case 1: Replace Missing Values with 0 </u>"
   ]
  },
  {
   "cell_type": "code",
   "execution_count": 78,
   "id": "aa63a971",
   "metadata": {},
   "outputs": [
    {
     "name": "stdout",
     "output_type": "stream",
     "text": [
      "Total NA Sum (Before Fill with 0) =  94\n",
      "Total NA Sum (After Fill with 0)  0\n"
     ]
    }
   ],
   "source": [
    "#Print all Missing Values\n",
    "print(\"Total NA Sum (Before Fill with 0) = \",df_train1.total_bedrooms.isna().sum())\n",
    "df_train1.total_bedrooms= df_train1.total_bedrooms.fillna(0)\n",
    "print(\"Total NA Sum (After Fill with 0) \",df_train1.total_bedrooms.isna().sum())"
   ]
  },
  {
   "cell_type": "code",
   "execution_count": 79,
   "id": "84589e28",
   "metadata": {},
   "outputs": [],
   "source": [
    "#Missing Values with 0\n",
    "X_train1 = df_train1.fillna(0).values\n",
    "\n",
    "w0_1, w_1 = train_linear_regression(X_train1, y_train)\n",
    "\n",
    "y_pred_1 = w0_1 + X_train1.dot(w_1)"
   ]
  },
  {
   "cell_type": "code",
   "execution_count": 80,
   "id": "f9c2e858",
   "metadata": {},
   "outputs": [
    {
     "data": {
      "text/plain": [
       "(-9.763249477929213,\n",
       " array([11.48901968, 12.14856943, 12.45852739, ..., 12.91332356,\n",
       "        11.93076692, 12.11614341]))"
      ]
     },
     "execution_count": 80,
     "metadata": {},
     "output_type": "execute_result"
    }
   ],
   "source": [
    "w0_1, y_pred_1"
   ]
  },
  {
   "cell_type": "code",
   "execution_count": 81,
   "id": "eacd82ec",
   "metadata": {},
   "outputs": [
    {
     "data": {
      "text/plain": [
       "<Axes: ylabel='Count'>"
      ]
     },
     "execution_count": 81,
     "metadata": {},
     "output_type": "execute_result"
    },
    {
     "data": {
      "image/png": "[encoded data removed]",
      "text/plain": [
       "<Figure size 640x480 with 1 Axes>"
      ]
     },
     "metadata": {},
     "output_type": "display_data"
    }
   ],
   "source": [
    "#Distribution of Training vs Prediction\n",
    "sns.histplot(y_pred_1, color='red', alpha=0.5, bins=50)\n",
    "sns.histplot(y_train, color='blue', alpha=0.5, bins=50)"
   ]
  },
  {
   "cell_type": "code",
   "execution_count": 82,
   "id": "1c85021e",
   "metadata": {},
   "outputs": [
    {
     "data": {
      "text/plain": [
       "0.34"
      ]
     },
     "execution_count": 82,
     "metadata": {},
     "output_type": "execute_result"
    }
   ],
   "source": [
    "#RMSE Score of Training Dataset\n",
    "round(rmse(y_train, y_pred_1),2)"
   ]
  },
  {
   "cell_type": "code",
   "execution_count": 83,
   "id": "d96d2173",
   "metadata": {},
   "outputs": [
    {
     "data": {
      "text/plain": [
       "0.34"
      ]
     },
     "execution_count": 83,
     "metadata": {},
     "output_type": "execute_result"
    }
   ],
   "source": [
    "#RMSE Score of Validation Dataset\n",
    "X_val = prepare_X(df_val)\n",
    "y_pred_11 = w0_1 + X_val.dot(w_1)\n",
    "round(rmse(y_val, y_pred_11),2)"
   ]
  },
  {
   "cell_type": "markdown",
   "id": "6d668a1b",
   "metadata": {},
   "source": [
    "<u> Case 2: Replace Missing Values with Mean </u>"
   ]
  },
  {
   "cell_type": "code",
   "execution_count": 84,
   "id": "445dbce9",
   "metadata": {},
   "outputs": [
    {
     "name": "stdout",
     "output_type": "stream",
     "text": [
      "Total NA Sum (Before Fill with Mean)  =  94\n",
      "Total NA Sum (After Fill with Mean)=  0\n"
     ]
    }
   ],
   "source": [
    "print(\"Total NA Sum (Before Fill with Mean)  = \",df_train2.total_bedrooms.isna().sum())\n",
    "df_train2.total_bedrooms = df_train2.total_bedrooms.fillna(df_train2.total_bedrooms.mean())\n",
    "print(\"Total NA Sum (After Fill with Mean)= \",df_train2.total_bedrooms.isna().sum())"
   ]
  },
  {
   "cell_type": "code",
   "execution_count": 86,
   "id": "0ad4c518",
   "metadata": {},
   "outputs": [],
   "source": [
    "#Replace Missing Values with Mean\n",
    "X_train2 = df_train2.fillna(df_train2.total_bedrooms.mean()).values\n",
    "\n",
    "w0_2, w_2 = train_linear_regression(X_train2, y_train)\n",
    "\n",
    "y_pred_2 = w0_2 + X_train2.dot(w_2)"
   ]
  },
  {
   "cell_type": "code",
   "execution_count": 87,
   "id": "02e5945f",
   "metadata": {},
   "outputs": [
    {
     "data": {
      "text/plain": [
       "(-9.886133215861097,\n",
       " array([11.48148474, 12.14204505, 12.45148382, ..., 12.9139426 ,\n",
       "        11.93466055, 12.11281089]))"
      ]
     },
     "execution_count": 87,
     "metadata": {},
     "output_type": "execute_result"
    }
   ],
   "source": [
    "w0_2, y_pred_2"
   ]
  },
  {
   "cell_type": "code",
   "execution_count": 88,
   "id": "8c4304fb",
   "metadata": {},
   "outputs": [
    {
     "data": {
      "text/plain": [
       "<Axes: ylabel='Count'>"
      ]
     },
     "execution_count": 88,
     "metadata": {},
     "output_type": "execute_result"
    },
    {
     "data": {
      "image/png": "[encoded data removed]",
      "text/plain": [
       "<Figure size 640x480 with 1 Axes>"
      ]
     },
     "metadata": {},
     "output_type": "display_data"
    }
   ],
   "source": [
    "#Distribution of Training vs Prediction\n",
    "sns.histplot(y_pred_2, color='red', alpha=0.5, bins=50)\n",
    "sns.histplot(y_train, color='blue', alpha=0.5, bins=50)"
   ]
  },
  {
   "cell_type": "code",
   "execution_count": 89,
   "id": "333cdfb9",
   "metadata": {},
   "outputs": [
    {
     "data": {
      "text/plain": [
       "0.34"
      ]
     },
     "execution_count": 89,
     "metadata": {},
     "output_type": "execute_result"
    }
   ],
   "source": [
    "#RMSE Score of Training Dataset\n",
    "round(rmse(y_train, y_pred_2),2)"
   ]
  },
  {
   "cell_type": "code",
   "execution_count": 90,
   "id": "79972122",
   "metadata": {},
   "outputs": [
    {
     "data": {
      "text/plain": [
       "0.34"
      ]
     },
     "execution_count": 90,
     "metadata": {},
     "output_type": "execute_result"
    }
   ],
   "source": [
    "#RMSE Score of Validation Dataset\n",
    "X_val = prepare_X(df_val)\n",
    "y_pred_22 = w0_2 + X_val.dot(w_2)\n",
    "round(rmse(y_val, y_pred_22),2)"
   ]
  },
  {
   "cell_type": "markdown",
   "id": "19088a8d",
   "metadata": {},
   "source": [
    "`Answer: Both are equally good`"
   ]
  },
  {
   "cell_type": "markdown",
   "id": "3439d0bb",
   "metadata": {},
   "source": [
    "<h2> Question 4 </h2>"
   ]
  },
  {
   "cell_type": "markdown",
   "id": "50d6df6f",
   "metadata": {},
   "source": [
    "<u> Train Regularized Linear Regression </u>"
   ]
  },
  {
   "cell_type": "code",
   "execution_count": 92,
   "id": "a653d7c7",
   "metadata": {},
   "outputs": [
    {
     "data": {
      "text/plain": [
       "latitude              0\n",
       "longitude             0\n",
       "housing_median_age    0\n",
       "total_rooms           0\n",
       "total_bedrooms        0\n",
       "population            0\n",
       "households            0\n",
       "median_income         0\n",
       "dtype: int64"
      ]
     },
     "execution_count": 92,
     "metadata": {},
     "output_type": "execute_result"
    }
   ],
   "source": [
    "df_train3.total_bedrooms = df_train3.total_bedrooms.fillna(0)\n",
    "df_train3.isna().sum()"
   ]
  },
  {
   "cell_type": "code",
   "execution_count": 94,
   "id": "ff49024a",
   "metadata": {},
   "outputs": [],
   "source": [
    "def train_linear_regression_reg(X, y, r=0.001):\n",
    "    ones = np.ones(X.shape[0])\n",
    "    X = np.column_stack([ones, X])\n",
    "\n",
    "    XTX = X.T.dot(X)\n",
    "    XTX = XTX + r * np.eye(XTX.shape[0])\n",
    "\n",
    "    XTX_inv = np.linalg.inv(XTX)\n",
    "    w_full = XTX_inv.dot(X.T).dot(y)\n",
    "    \n",
    "    return w_full[0], w_full[1:]"
   ]
  },
  {
   "cell_type": "code",
   "execution_count": 95,
   "id": "da696330",
   "metadata": {},
   "outputs": [
    {
     "data": {
      "text/plain": [
       "0.34"
      ]
     },
     "execution_count": 95,
     "metadata": {},
     "output_type": "execute_result"
    }
   ],
   "source": [
    "#Case r=0\n",
    "X_train3 = prepare_X(df_train3)\n",
    "# 0, 0.000001, 0.0001, 0.001, 0.01, 0.1, 1, 5, 10\n",
    "#  r= 0\n",
    "w0_3, w_3 = train_linear_regression_reg(X_train3, y_train, r=0)\n",
    "\n",
    "X_val_3 = prepare_X(df_val)\n",
    "y_pred_3 = w0_3 + X_val_3.dot(w_3)\n",
    "round(rmse(y_val, y_pred_3),2)"
   ]
  },
  {
   "cell_type": "code",
   "execution_count": 96,
   "id": "428d75cf",
   "metadata": {},
   "outputs": [
    {
     "data": {
      "text/plain": [
       "0.34"
      ]
     },
     "execution_count": 96,
     "metadata": {},
     "output_type": "execute_result"
    }
   ],
   "source": [
    "#Case r= 0.000001\n",
    "X_train3 = prepare_X(df_train3)\n",
    "# 0, 0.000001, 0.0001, 0.001, 0.01, 0.1, 1, 5, 10\n",
    "#  r= 0.000001\n",
    "w0_3, w_3 = train_linear_regression_reg(X_train3, y_train, r=0.000001)\n",
    "\n",
    "X_val_3 = prepare_X(df_val)\n",
    "y_pred_3 = w0_3 + X_val_3.dot(w_3)\n",
    "round(rmse(y_val, y_pred_3),2)"
   ]
  },
  {
   "cell_type": "code",
   "execution_count": 97,
   "id": "c1498e4a",
   "metadata": {},
   "outputs": [
    {
     "data": {
      "text/plain": [
       "0.34"
      ]
     },
     "execution_count": 97,
     "metadata": {},
     "output_type": "execute_result"
    }
   ],
   "source": [
    "#Case r= 0.0001\n",
    "X_train3 = prepare_X(df_train3)\n",
    "# 0, 0.000001, 0.0001, 0.001, 0.01, 0.1, 1, 5, 10\n",
    "#  r= 0.0001\n",
    "w0_3, w_3 = train_linear_regression_reg(X_train3, y_train, r=0.0001)\n",
    "\n",
    "X_val_3 = prepare_X(df_val)\n",
    "y_pred_3 = w0_3 + X_val_3.dot(w_3)\n",
    "round(rmse(y_val, y_pred_3),2)"
   ]
  },
  {
   "cell_type": "code",
   "execution_count": 107,
   "id": "c9ce5cf4",
   "metadata": {},
   "outputs": [
    {
     "data": {
      "text/plain": [
       "0.34"
      ]
     },
     "execution_count": 107,
     "metadata": {},
     "output_type": "execute_result"
    }
   ],
   "source": [
    "#Case r= 0.001\n",
    "X_train3 = prepare_X(df_train3)\n",
    "# 0, 0.000001, 0.0001, 0.001, 0.01, 0.1, 1, 5, 10\n",
    "#  r= 0.001\n",
    "w0_3, w_3 = train_linear_regression_reg(X_train3, y_train, r=0.001)\n",
    "\n",
    "X_val_3 = prepare_X(df_val)\n",
    "y_pred_3 = w0_3 + X_val_3.dot(w_3)\n",
    "round(rmse(y_val, y_pred_3),2)"
   ]
  },
  {
   "cell_type": "code",
   "execution_count": 106,
   "id": "442fcf3b",
   "metadata": {},
   "outputs": [
    {
     "data": {
      "text/plain": [
       "0.34"
      ]
     },
     "execution_count": 106,
     "metadata": {},
     "output_type": "execute_result"
    }
   ],
   "source": [
    "#Case r= 0.01\n",
    "X_train3 = prepare_X(df_train3)\n",
    "# 0, 0.000001, 0.0001, 0.001, 0.01, 0.1, 1, 5, 10\n",
    "#  r= 0.01\n",
    "w0_3, w_3 = train_linear_regression_reg(X_train3, y_train, r=0.01)\n",
    "\n",
    "X_val_3 = prepare_X(df_val)\n",
    "y_pred_3 = w0_3 + X_val_3.dot(w_3)\n",
    "round(rmse(y_val, y_pred_3),2)"
   ]
  },
  {
   "cell_type": "code",
   "execution_count": 100,
   "id": "f547fd51",
   "metadata": {},
   "outputs": [
    {
     "data": {
      "text/plain": [
       "0.34"
      ]
     },
     "execution_count": 100,
     "metadata": {},
     "output_type": "execute_result"
    }
   ],
   "source": [
    "#Case r= 0.1\n",
    "X_train3 = prepare_X(df_train3)\n",
    "# 0, 0.000001, 0.0001, 0.001, 0.01, 0.1, 1, 5, 10\n",
    "#  r= 0.1\n",
    "w0_3, w_3 = train_linear_regression_reg(X_train3, y_train, r=0.1)\n",
    "\n",
    "X_val_3 = prepare_X(df_val)\n",
    "y_pred_3 = w0_3 + X_val_3.dot(w_3)\n",
    "round(rmse(y_val, y_pred_3),2)"
   ]
  },
  {
   "cell_type": "code",
   "execution_count": 101,
   "id": "f9366e99",
   "metadata": {},
   "outputs": [
    {
     "data": {
      "text/plain": [
       "0.34"
      ]
     },
     "execution_count": 101,
     "metadata": {},
     "output_type": "execute_result"
    }
   ],
   "source": [
    "#Case r= 1\n",
    "X_train3 = prepare_X(df_train3)\n",
    "# 0, 0.000001, 0.0001, 0.001, 0.01, 0.1, 1, 5, 10\n",
    "#  r= 1\n",
    "w0_3, w_3 = train_linear_regression_reg(X_train3, y_train, r=1)\n",
    "\n",
    "X_val_3 = prepare_X(df_val)\n",
    "y_pred_3 = w0_3 + X_val_3.dot(w_3)\n",
    "round(rmse(y_val, y_pred_3),2)"
   ]
  },
  {
   "cell_type": "code",
   "execution_count": 102,
   "id": "240812c8",
   "metadata": {},
   "outputs": [
    {
     "data": {
      "text/plain": [
       "0.35"
      ]
     },
     "execution_count": 102,
     "metadata": {},
     "output_type": "execute_result"
    }
   ],
   "source": [
    "#Case r= 5\n",
    "X_train3 = prepare_X(df_train3)\n",
    "# 0, 0.000001, 0.0001, 0.001, 0.01, 0.1, 1, 5, 10\n",
    "#  r= 5\n",
    "w0_3, w_3 = train_linear_regression_reg(X_train3, y_train, r=5)\n",
    "\n",
    "X_val_3 = prepare_X(df_val)\n",
    "y_pred_3 = w0_3 + X_val_3.dot(w_3)\n",
    "round(rmse(y_val, y_pred_3),2)"
   ]
  },
  {
   "cell_type": "code",
   "execution_count": 103,
   "id": "3196226c",
   "metadata": {},
   "outputs": [
    {
     "data": {
      "text/plain": [
       "0.35"
      ]
     },
     "execution_count": 103,
     "metadata": {},
     "output_type": "execute_result"
    }
   ],
   "source": [
    "#Case r= 10\n",
    "X_train3 = prepare_X(df_train3)\n",
    "\n",
    "# 0, 0.000001, 0.0001, 0.001, 0.01, 0.1, 1, 5, 10\n",
    "#  r= 10\n",
    "w0_3, w_3 = train_linear_regression_reg(X_train3, y_train, r=10)\n",
    "\n",
    "X_val_3 = prepare_X(df_val)\n",
    "y_pred_3 = w0_3 + X_val_3.dot(w_3)\n",
    "round(rmse(y_val, y_pred_3),2)"
   ]
  },
  {
   "cell_type": "markdown",
   "id": "752384bb",
   "metadata": {},
   "source": [
    "`Answer: 0.001`"
   ]
  },
  {
   "cell_type": "markdown",
   "id": "2279d5c4",
   "metadata": {},
   "source": [
    "<h2> Question 5 </h2>"
   ]
  },
  {
   "cell_type": "code",
   "execution_count": 110,
   "id": "9ba46824",
   "metadata": {},
   "outputs": [
    {
     "name": "stdout",
     "output_type": "stream",
     "text": [
      "Defaulting to user installation because normal site-packages is not writeable\n",
      "Requirement already satisfied: scikit-learn in c:\\programdata\\anaconda3\\lib\\site-packages (1.3.0)\n",
      "Requirement already satisfied: numpy>=1.17.3 in c:\\programdata\\anaconda3\\lib\\site-packages (from scikit-learn) (1.24.3)\n",
      "Requirement already satisfied: scipy>=1.5.0 in c:\\programdata\\anaconda3\\lib\\site-packages (from scikit-learn) (1.10.1)\n",
      "Requirement already satisfied: joblib>=1.1.1 in c:\\programdata\\anaconda3\\lib\\site-packages (from scikit-learn) (1.2.0)\n",
      "Requirement already satisfied: threadpoolctl>=2.0.0 in c:\\programdata\\anaconda3\\lib\\site-packages (from scikit-learn) (2.2.0)\n"
     ]
    }
   ],
   "source": [
    "!pip install scikit-learn"
   ]
  },
  {
   "cell_type": "code",
   "execution_count": 129,
   "id": "c6d3ea9e",
   "metadata": {},
   "outputs": [],
   "source": [
    "from sklearn.metrics import mean_squared_error"
   ]
  },
  {
   "cell_type": "code",
   "execution_count": 130,
   "id": "3867d8bd",
   "metadata": {},
   "outputs": [],
   "source": [
    "rmse_scores =[]"
   ]
  },
  {
   "cell_type": "code",
   "execution_count": 131,
   "id": "43f17c2c",
   "metadata": {},
   "outputs": [
    {
     "name": "stdout",
     "output_type": "stream",
     "text": [
      "seed=  0 , rmse score = 0.33\n",
      "seed=  1 , rmse score = 0.34\n",
      "seed=  2 , rmse score = 0.33\n",
      "seed=  3 , rmse score = 0.33\n",
      "seed=  4 , rmse score = 0.34\n",
      "seed=  5 , rmse score = 0.34\n",
      "seed=  6 , rmse score = 0.33\n",
      "seed=  7 , rmse score = 0.35\n",
      "seed=  8 , rmse score = 0.35\n",
      "seed=  9 , rmse score = 0.34\n"
     ]
    }
   ],
   "source": [
    "for s in [0, 1, 2, 3, 4, 5, 6, 7, 8, 9]:\n",
    "    \n",
    "    #Split dataset using seed(42)\n",
    "    np.random.seed(s)\n",
    "    np.random.shuffle(idx)\n",
    "    df_train = df.iloc[idx[:n_train]]\n",
    "    df_val = df.iloc[idx[n_train:n_train+n_val]]\n",
    "    df_test = df.iloc[idx[n_train+n_val:]]\n",
    "    \n",
    "    #Reset Index of Training,Validation,Test Dataset\n",
    "    df_train = df_train.reset_index(drop=True)\n",
    "    df_val = df_val.reset_index(drop=True)\n",
    "    df_test = df_test.reset_index(drop=True)\n",
    "    \n",
    "    #Log Transformation of median_house_value\n",
    "    y_train = np.log1p(df_train.median_house_value.values)\n",
    "    y_val = np.log1p(df_val.median_house_value.values)\n",
    "    y_test = np.log1p(df_test.median_house_value.values)\n",
    "    \n",
    "\n",
    "    #Train \n",
    "    X_train = prepare_X(df_train)\n",
    "    w0, w = train_linear_regression(X_train, y_train)\n",
    "    \n",
    "    #Validation\n",
    "    X_val = prepare_X(df_val)\n",
    "    y_pred = w0 + X_val.dot(w)\n",
    "    \n",
    "    \n",
    "    #RMSE Score\n",
    "    score = round(np.sqrt(mean_squared_error(y_val, y_pred)),2)\n",
    "    rmse_scores.append(score)\n",
    "    \n",
    "    print('seed=  {} , rmse score = {}'.format(s,score))"
   ]
  },
  {
   "cell_type": "code",
   "execution_count": 128,
   "id": "6bafbc35",
   "metadata": {},
   "outputs": [
    {
     "name": "stdout",
     "output_type": "stream",
     "text": [
      " STD of RMSE Scores = 0.007\n"
     ]
    }
   ],
   "source": [
    "#RMSE Score\n",
    "std = np.std(rmse_scores)\n",
    "print(' STD of RMSE Scores = {}'.format(round(std,3)))"
   ]
  },
  {
   "cell_type": "markdown",
   "id": "d1e4511f",
   "metadata": {},
   "source": [
    "`Answer: 0.005`"
   ]
  },
  {
   "cell_type": "markdown",
   "id": "45e3f27b",
   "metadata": {},
   "source": [
    "<h2> Question 6 </h2>"
   ]
  },
  {
   "cell_type": "code",
   "execution_count": 132,
   "id": "beb2bdad",
   "metadata": {},
   "outputs": [],
   "source": [
    "#Split dataset using seed(9)\n",
    "np.random.seed(9)\n",
    "np.random.shuffle(idx)\n",
    "df_train = df.iloc[idx[:n_train]]\n",
    "df_val = df.iloc[idx[n_train:n_train+n_val]]\n",
    "df_test = df.iloc[idx[n_train+n_val:]]\n",
    "    \n",
    "df_train = df_train.reset_index(drop=True)\n",
    "df_val = df_val.reset_index(drop=True)\n",
    "df_test = df_test.reset_index(drop=True)\n",
    "\n",
    "y_train = np.log1p(df_train.median_house_value.values)\n",
    "y_val = np.log1p(df_val.median_house_value.values)\n",
    "y_test = np.log1p(df_test.median_house_value.values)"
   ]
  },
  {
   "cell_type": "code",
   "execution_count": 133,
   "id": "81bc79ba",
   "metadata": {},
   "outputs": [],
   "source": [
    "#Combine Train and Validation dataset\n",
    "df_full_train = pd.concat([df_train, df_val])\n",
    "df_full_train = df_full_train.reset_index(drop=True)\n",
    "X_full_train = prepare_X(df_full_train)\n",
    "\n",
    "y_full_train = np.concatenate([y_train, y_val])\n"
   ]
  },
  {
   "cell_type": "code",
   "execution_count": 134,
   "id": "8320a057",
   "metadata": {},
   "outputs": [
    {
     "data": {
      "text/plain": [
       "0.33"
      ]
     },
     "execution_count": 134,
     "metadata": {},
     "output_type": "execute_result"
    }
   ],
   "source": [
    "#RMSE Score of Test dataset\n",
    "w0, w = train_linear_regression_reg(X_full_train, y_full_train, r=0.001)\n",
    "\n",
    "X_test = prepare_X(df_test)\n",
    "y_pred = w0 + X_test.dot(w)\n",
    "score = rmse(y_test, y_pred)\n",
    "round(score,2)"
   ]
  },
  {
   "cell_type": "markdown",
   "id": "cd0d3283",
   "metadata": {},
   "source": [
    "`Answer: 0.33`"
   ]
  }
 ],
 "metadata": {
  "kernelspec": {
   "display_name": "venv",
   "language": "python",
   "name": "python3"
  },
  "language_info": {
   "codemirror_mode": {
    "name": "ipython",
    "version": 3
   },
   "file_extension": ".py",
   "mimetype": "text/x-python",
   "name": "python",
   "nbconvert_exporter": "python",
   "pygments_lexer": "ipython3",
   "version": "3.11.4"
  }
 },
 "nbformat": 4,
 "nbformat_minor": 5
}
